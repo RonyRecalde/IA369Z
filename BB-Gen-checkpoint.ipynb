{
 "cells": [
  {
   "cell_type": "markdown",
   "metadata": {},
   "source": [
    "BB-Gen\n",
    "\n",
    "About BB-Gen\n",
    "\n",
    "BB-Gen is simple CLI based packet crafter written in Python over Scapy library to generate packet flows formatted as PCAP files by taking user-defined parameters as inputs based on the headers defined in a P414 program. It can natively crafts packets for different standard and custom protocols. It aims to create PCAP files to be used with a wide set of Traffic Generators (e.g., pktgen-dpdk, NFPA, TCPDUMP, etc.) helping network developers to validate the network and execute performance tests over the targets."
   ]
  },
  {
   "cell_type": "code",
   "execution_count": 2,
   "metadata": {},
   "outputs": [
    {
     "name": "stdout",
     "output_type": "stream",
     "text": [
      "usage: main.py [-h] [-p] [-t] [-n] [-nm] [-rnip] [-rnmac] [-rnport] [-pkt]\n",
      "               [-p4] [-u] [-udata] [-perf] [-d] [-v]\n",
      "\n",
      "BB-gen PCAP generator\n",
      "\n",
      "optional arguments:\n",
      "  -h, --help            show this help message and exit\n",
      "  -p , --protocol       Type of packet:\n",
      "                         ipv4, ipv6, vxlan, gre, l2\n",
      "                         Default: ipv4\n",
      "  -t , --tansport       Specifies the transport protocol:\n",
      "                         tcp or udp\n",
      "                         For VXLAN and GRE is the encapsulated protocol\n",
      "                         Default: tcp\n",
      "  -n , --number         Number of entries\n",
      "                         Default: 10\n",
      "  -nm , --name          PCAP name\n",
      "                         Default: ipv4\n",
      "  -rnip                 Random IP\n",
      "                         Default: False\n",
      "  -rnmac                Random MAC\n",
      "                         Default: False\n",
      "  -rnport               Random Port\n",
      "                         Default: False\n",
      "  -pkt , --packetsize   Specify here the required packetsize\n",
      "                         In case of more than one, separated the list with coma\n",
      "                         e.g. 64,215,514.\n",
      "                         Default: 64\n",
      "  -p4                   Specify a P4 code to autogenerates the traces\n",
      "                         Default: none\n",
      "  -u , --usecase        Use Case:\n",
      "                         macsad\n",
      "                         Default: none\n",
      "  -udata , --userdata   User Specified Data\n",
      "  -perf, --performance  Performance PCAPs\n",
      "                         64, 128, 254, 512, 1024, 1280, 1518 pkt size\n",
      "                         Default: False\n",
      "  -d, --debug           Debug enable\n",
      "  -v                    show program's version number and exit\n"
     ]
    }
   ],
   "source": [
    "%run -i main.py -h"
   ]
  },
  {
   "cell_type": "code",
   "execution_count": null,
   "metadata": {},
   "outputs": [],
   "source": []
  }
 ],
 "metadata": {
  "kernelspec": {
   "display_name": "Python 3",
   "language": "python",
   "name": "python3"
  },
  "language_info": {
   "codemirror_mode": {
    "name": "ipython",
    "version": 3
   },
   "file_extension": ".py",
   "mimetype": "text/x-python",
   "name": "python",
   "nbconvert_exporter": "python",
   "pygments_lexer": "ipython3",
   "version": "3.7.1"
  }
 },
 "nbformat": 4,
 "nbformat_minor": 2
}
